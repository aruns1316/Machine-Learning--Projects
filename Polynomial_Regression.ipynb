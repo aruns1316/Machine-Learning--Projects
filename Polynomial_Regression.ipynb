{
  "nbformat": 4,
  "nbformat_minor": 0,
  "metadata": {
    "colab": {
      "provenance": []
    },
    "kernelspec": {
      "name": "python3",
      "display_name": "Python 3"
    },
    "language_info": {
      "name": "python"
    }
  },
  "cells": [
    {
      "cell_type": "code",
      "source": [
        "import numpy as np\n",
        "import matplotlib.pyplot as plt"
      ],
      "metadata": {
        "id": "rCylWM8d336Q"
      },
      "execution_count": null,
      "outputs": []
    },
    {
      "cell_type": "code",
      "source": [
        "#geberatic systhetic data points\n",
        "\n",
        "np.random.seed(1)"
      ],
      "metadata": {
        "id": "ChIdis5642Ai"
      },
      "execution_count": null,
      "outputs": []
    },
    {
      "cell_type": "code",
      "source": [
        "#generating symnthetic X\n",
        "\n",
        "X = 2 * np.random.rand(100,1)"
      ],
      "metadata": {
        "id": "MShFSbCu49LB"
      },
      "execution_count": null,
      "outputs": []
    },
    {
      "cell_type": "code",
      "source": [
        "X"
      ],
      "metadata": {
        "colab": {
          "base_uri": "https://localhost:8080/"
        },
        "id": "Y1P4gSH75Pzb",
        "outputId": "aad779d0-8152-44d6-c0d0-2442e18302ec"
      },
      "execution_count": null,
      "outputs": [
        {
          "output_type": "execute_result",
          "data": {
            "text/plain": [
              "array([[0.6532898 ],\n",
              "       [1.0541162 ],\n",
              "       [1.7718842 ],\n",
              "       [0.71453952],\n",
              "       [1.8170703 ],\n",
              "       [1.24672023],\n",
              "       [0.03164249],\n",
              "       [1.85887447],\n",
              "       [1.38179384],\n",
              "       [1.9946457 ],\n",
              "       [0.34468102],\n",
              "       [0.2742715 ],\n",
              "       [1.86519093],\n",
              "       [1.39363632],\n",
              "       [0.13200035],\n",
              "       [1.51092611],\n",
              "       [1.50775238],\n",
              "       [1.84604907],\n",
              "       [1.42304952],\n",
              "       [0.24854192],\n",
              "       [0.03976027],\n",
              "       [0.05242197],\n",
              "       [0.05661298],\n",
              "       [0.49242214],\n",
              "       [1.7200559 ],\n",
              "       [1.07766213],\n",
              "       [1.10564396],\n",
              "       [1.68406178],\n",
              "       [0.24834663],\n",
              "       [0.55836736],\n",
              "       [1.17151854],\n",
              "       [1.9391915 ],\n",
              "       [1.12206044],\n",
              "       [0.03729458],\n",
              "       [1.60126535],\n",
              "       [0.46594855],\n",
              "       [1.61421039],\n",
              "       [0.77572129],\n",
              "       [1.72708371],\n",
              "       [1.49424329],\n",
              "       [1.11248047],\n",
              "       [0.27291045],\n",
              "       [0.11983538],\n",
              "       [0.24268691],\n",
              "       [0.08910376],\n",
              "       [0.21498826],\n",
              "       [0.45141868],\n",
              "       [1.42597796],\n",
              "       [1.11943396],\n",
              "       [0.02511196],\n",
              "       [0.14394856],\n",
              "       [1.93455266],\n",
              "       [1.13620092],\n",
              "       [0.40658647],\n",
              "       [0.50465149],\n",
              "       [1.48765171],\n",
              "       [0.39085896],\n",
              "       [1.16271785],\n",
              "       [1.94003998],\n",
              "       [1.6936576 ],\n",
              "       [0.47969552],\n",
              "       [0.98753943],\n",
              "       [1.23991144],\n",
              "       [1.6579618 ],\n",
              "       [0.31358279],\n",
              "       [0.0371524 ],\n",
              "       [0.14004429],\n",
              "       [0.97269022],\n",
              "       [1.21265892],\n",
              "       [1.13770287],\n",
              "       [0.63472482],\n",
              "       [1.97723231],\n",
              "       [1.15949044],\n",
              "       [0.76028235],\n",
              "       [1.10189644],\n",
              "       [1.49066886],\n",
              "       [1.33846579],\n",
              "       [0.52983912],\n",
              "       [0.13266967],\n",
              "       [0.7401684 ],\n",
              "       [1.25943501],\n",
              "       [0.42034802],\n",
              "       [1.50551111],\n",
              "       [0.13307296],\n",
              "       [0.5206302 ],\n",
              "       [1.60950913],\n",
              "       [0.38686857],\n",
              "       [1.27892176],\n",
              "       [1.04934062],\n",
              "       [1.84961594],\n",
              "       [0.52659354],\n",
              "       [0.13192218],\n",
              "       [1.47013193],\n",
              "       [1.54435606],\n",
              "       [1.81563171],\n",
              "       [1.86394414],\n",
              "       [0.02790315],\n",
              "       [0.46872417],\n",
              "       [1.23355671],\n",
              "       [1.89803264]])"
            ]
          },
          "metadata": {},
          "execution_count": 6
        }
      ]
    },
    {
      "cell_type": "code",
      "source": [
        "#generating synthetic data points y\n",
        "\n",
        "y = 4 + 3*1.5*X**2+ np.random.randn(100,1)"
      ],
      "metadata": {
        "id": "_zRs1p4-5QVb"
      },
      "execution_count": null,
      "outputs": []
    },
    {
      "cell_type": "code",
      "source": [
        "y"
      ],
      "metadata": {
        "colab": {
          "base_uri": "https://localhost:8080/"
        },
        "id": "Xh3uaeEk5fZ6",
        "outputId": "c199903d-df7c-4a09-9134-986d35f8aa72"
      },
      "execution_count": null,
      "outputs": [
        {
          "output_type": "execute_result",
          "data": {
            "text/plain": [
              "array([[ 6.16321349],\n",
              "       [ 9.20205456],\n",
              "       [18.78910155],\n",
              "       [ 8.08970847],\n",
              "       [18.7373856 ],\n",
              "       [ 9.76128028],\n",
              "       [ 2.82218748],\n",
              "       [18.88360977],\n",
              "       [10.9178981 ],\n",
              "       [22.72878145],\n",
              "       [ 4.03640895],\n",
              "       [ 4.02752687],\n",
              "       [19.65332588],\n",
              "       [11.34337948],\n",
              "       [ 3.21709205],\n",
              "       [14.94775115],\n",
              "       [14.84846667],\n",
              "       [18.89236535],\n",
              "       [14.92334959],\n",
              "       [ 2.97225197],\n",
              "       [ 3.66212674],\n",
              "       [ 3.78152654],\n",
              "       [ 1.22133763],\n",
              "       [ 7.02868683],\n",
              "       [17.67999732],\n",
              "       [ 8.1815111 ],\n",
              "       [11.55219196],\n",
              "       [17.34795043],\n",
              "       [ 4.70706836],\n",
              "       [ 4.79598508],\n",
              "       [10.28227336],\n",
              "       [19.39640616],\n",
              "       [10.46061442],\n",
              "       [ 3.63182067],\n",
              "       [15.67227637],\n",
              "       [ 6.17904108],\n",
              "       [16.01028645],\n",
              "       [ 6.97031327],\n",
              "       [17.69918093],\n",
              "       [13.31416188],\n",
              "       [10.40526228],\n",
              "       [ 5.87851963],\n",
              "       [ 4.82342799],\n",
              "       [ 5.14994503],\n",
              "       [ 3.15844614],\n",
              "       [ 3.34020256],\n",
              "       [ 3.47612868],\n",
              "       [14.38261222],\n",
              "       [ 9.38491593],\n",
              "       [ 5.40268169],\n",
              "       [ 3.31133366],\n",
              "       [20.40371399],\n",
              "       [ 9.90471151],\n",
              "       [ 5.66535658],\n",
              "       [ 5.20677926],\n",
              "       [14.17010898],\n",
              "       [ 4.70399584],\n",
              "       [10.26079536],\n",
              "       [19.82042801],\n",
              "       [16.98906944],\n",
              "       [ 4.84890606],\n",
              "       [ 8.33172907],\n",
              "       [11.41054823],\n",
              "       [15.68908983],\n",
              "       [ 4.35799572],\n",
              "       [ 3.70884947],\n",
              "       [ 4.50555782],\n",
              "       [ 9.04233886],\n",
              "       [ 9.66201223],\n",
              "       [10.41056567],\n",
              "       [ 7.8787235 ],\n",
              "       [20.12135729],\n",
              "       [ 9.21970945],\n",
              "       [ 5.720554  ],\n",
              "       [ 9.1846932 ],\n",
              "       [15.62227054],\n",
              "       [12.07506066],\n",
              "       [ 4.5685891 ],\n",
              "       [ 4.70100909],\n",
              "       [ 5.86551711],\n",
              "       [12.26120666],\n",
              "       [ 5.1003831 ],\n",
              "       [15.58831602],\n",
              "       [ 3.41834362],\n",
              "       [ 8.25060822],\n",
              "       [16.48192297],\n",
              "       [ 5.32808294],\n",
              "       [11.30919548],\n",
              "       [ 8.22942368],\n",
              "       [18.5270874 ],\n",
              "       [ 5.11187608],\n",
              "       [ 3.28104579],\n",
              "       [14.00847118],\n",
              "       [13.90656294],\n",
              "       [19.4554159 ],\n",
              "       [20.59041658],\n",
              "       [ 3.29766313],\n",
              "       [ 6.18134664],\n",
              "       [10.60953781],\n",
              "       [21.36666347]])"
            ]
          },
          "metadata": {},
          "execution_count": 10
        }
      ]
    },
    {
      "cell_type": "code",
      "source": [
        "#train_test_split\n",
        "\n",
        "from sklearn.model_selection import train_test_split"
      ],
      "metadata": {
        "id": "zVEjfkwC5f3M"
      },
      "execution_count": null,
      "outputs": []
    },
    {
      "cell_type": "code",
      "source": [
        "X_train, X_test, y_train, y_test = train_test_split(X, y , test_size = 0.2, random_state = 1)"
      ],
      "metadata": {
        "id": "bk-SAFXP5-ZA"
      },
      "execution_count": null,
      "outputs": []
    },
    {
      "cell_type": "code",
      "source": [
        "X_train.shape , X_test.shape"
      ],
      "metadata": {
        "colab": {
          "base_uri": "https://localhost:8080/"
        },
        "id": "ML8gIyYO6Okk",
        "outputId": "bf73ed5e-d700-4bb3-ec77-a880c03ec789"
      },
      "execution_count": null,
      "outputs": [
        {
          "output_type": "execute_result",
          "data": {
            "text/plain": [
              "((80, 1), (20, 1))"
            ]
          },
          "metadata": {},
          "execution_count": 14
        }
      ]
    },
    {
      "cell_type": "code",
      "source": [
        "#perform polynomial regression\n",
        "\n",
        "from sklearn.preprocessing import PolynomialFeatures"
      ],
      "metadata": {
        "id": "ZBZOJ6jC6Rpb"
      },
      "execution_count": null,
      "outputs": []
    },
    {
      "cell_type": "code",
      "source": [
        "degree = 2\n",
        "poly_features = PolynomialFeatures(degree = 2, include_bias = False)\n",
        "X_poly_train = poly_features.fit_transform(X_train)"
      ],
      "metadata": {
        "id": "zueLEDY46hMW"
      },
      "execution_count": null,
      "outputs": []
    },
    {
      "cell_type": "code",
      "source": [
        "X_poly_train"
      ],
      "metadata": {
        "colab": {
          "base_uri": "https://localhost:8080/"
        },
        "id": "ZIuYNFTl7Cku",
        "outputId": "7335bea2-1fef-4b6d-c12f-95c41083506a"
      },
      "execution_count": null,
      "outputs": [
        {
          "output_type": "execute_result",
          "data": {
            "text/plain": [
              "array([[1.77188420e+00, 3.13957361e+00],\n",
              "       [7.60282345e-01, 5.78029244e-01],\n",
              "       [4.68724172e-01, 2.19702350e-01],\n",
              "       [1.23991144e+00, 1.53738037e+00],\n",
              "       [2.48541924e-01, 6.17730880e-02],\n",
              "       [4.65948548e-01, 2.17108049e-01],\n",
              "       [1.81563171e+00, 3.29651849e+00],\n",
              "       [1.68406178e+00, 2.83606409e+00],\n",
              "       [4.51418677e-01, 2.03778822e-01],\n",
              "       [1.72708371e+00, 2.98281814e+00],\n",
              "       [9.72690222e-01, 9.46126268e-01],\n",
              "       [1.89803264e+00, 3.60252791e+00],\n",
              "       [5.04651489e-01, 2.54673125e-01],\n",
              "       [1.86394414e+00, 3.47428775e+00],\n",
              "       [1.04934062e+00, 1.10111573e+00],\n",
              "       [1.11248047e+00, 1.23761279e+00],\n",
              "       [1.11943396e+00, 1.25313240e+00],\n",
              "       [1.69365760e+00, 2.86847608e+00],\n",
              "       [4.92422135e-01, 2.42479559e-01],\n",
              "       [1.60126535e+00, 2.56405071e+00],\n",
              "       [3.86868565e-01, 1.49667287e-01],\n",
              "       [4.06586469e-01, 1.65312557e-01],\n",
              "       [5.29839115e-01, 2.80729488e-01],\n",
              "       [1.51092611e+00, 2.28289770e+00],\n",
              "       [1.33072963e-01, 1.77084134e-02],\n",
              "       [2.72910451e-01, 7.44801144e-02],\n",
              "       [2.14988258e-01, 4.62199512e-02],\n",
              "       [1.31922181e-01, 1.74034619e-02],\n",
              "       [1.10564396e+00, 1.22244856e+00],\n",
              "       [1.23355671e+00, 1.52166217e+00],\n",
              "       [2.42686911e-01, 5.88969370e-02],\n",
              "       [1.48765171e+00, 2.21310760e+00],\n",
              "       [1.72005590e+00, 2.95859229e+00],\n",
              "       [1.81707030e+00, 3.30174448e+00],\n",
              "       [1.94003998e+00, 3.76375512e+00],\n",
              "       [2.51119603e-02, 6.30610551e-04],\n",
              "       [5.24219738e-02, 2.74806333e-03],\n",
              "       [1.27892176e+00, 1.63564087e+00],\n",
              "       [7.14539520e-01, 5.10566726e-01],\n",
              "       [1.10189644e+00, 1.21417576e+00],\n",
              "       [1.17151854e+00, 1.37245570e+00],\n",
              "       [1.40044287e-01, 1.96124024e-02],\n",
              "       [6.34724819e-01, 4.02875595e-01],\n",
              "       [1.19835379e-01, 1.43605181e-02],\n",
              "       [1.42597796e+00, 2.03341314e+00],\n",
              "       [1.84961594e+00, 3.42107913e+00],\n",
              "       [1.38179384e+00, 1.90935420e+00],\n",
              "       [4.79695518e-01, 2.30107790e-01],\n",
              "       [6.53289804e-01, 4.26787567e-01],\n",
              "       [5.26593541e-01, 2.77300757e-01],\n",
              "       [1.16271785e+00, 1.35191281e+00],\n",
              "       [5.66129760e-02, 3.20502906e-03],\n",
              "       [9.87539429e-01, 9.75234123e-01],\n",
              "       [1.65796180e+00, 2.74883733e+00],\n",
              "       [1.85887447e+00, 3.45541429e+00],\n",
              "       [2.79031460e-02, 7.78585554e-04],\n",
              "       [1.39363632e+00, 1.94222220e+00],\n",
              "       [1.21265892e+00, 1.47054166e+00],\n",
              "       [1.60950913e+00, 2.59051963e+00],\n",
              "       [1.32000345e-01, 1.74240912e-02],\n",
              "       [5.58367358e-01, 3.11774107e-01],\n",
              "       [2.48346630e-01, 6.16760488e-02],\n",
              "       [2.74271499e-01, 7.52248553e-02],\n",
              "       [1.42304952e+00, 2.02506993e+00],\n",
              "       [3.97602677e-02, 1.58087889e-03],\n",
              "       [1.43948559e-01, 2.07211877e-02],\n",
              "       [1.07766213e+00, 1.16135566e+00],\n",
              "       [3.16424857e-02, 1.00124690e-03],\n",
              "       [1.97723231e+00, 3.90944760e+00],\n",
              "       [1.33846579e+00, 1.79149066e+00],\n",
              "       [1.05411620e+00, 1.11116097e+00],\n",
              "       [1.50775238e+00, 2.27331723e+00],\n",
              "       [3.13582789e-01, 9.83341657e-02],\n",
              "       [7.40168396e-01, 5.47849254e-01],\n",
              "       [1.24672023e+00, 1.55431134e+00],\n",
              "       [1.49066886e+00, 2.22209366e+00],\n",
              "       [1.99464570e+00, 3.97861147e+00],\n",
              "       [1.15949044e+00, 1.34441808e+00],\n",
              "       [1.86519093e+00, 3.47893719e+00],\n",
              "       [7.75721288e-01, 6.01743517e-01]])"
            ]
          },
          "metadata": {},
          "execution_count": 19
        }
      ]
    },
    {
      "cell_type": "code",
      "source": [
        "from sklearn.linear_model import LinearRegression"
      ],
      "metadata": {
        "id": "vn8LCvHg7LPd"
      },
      "execution_count": null,
      "outputs": []
    },
    {
      "cell_type": "code",
      "source": [
        "poly_reg = LinearRegression()"
      ],
      "metadata": {
        "id": "BwQSZmHW7UlD"
      },
      "execution_count": null,
      "outputs": []
    },
    {
      "cell_type": "code",
      "source": [
        "poly_reg"
      ],
      "metadata": {
        "colab": {
          "base_uri": "https://localhost:8080/",
          "height": 74
        },
        "id": "9CLaNfz67cAh",
        "outputId": "fc921a2f-992a-4fea-8dd7-3c5118e62454"
      },
      "execution_count": null,
      "outputs": [
        {
          "output_type": "execute_result",
          "data": {
            "text/plain": [
              "LinearRegression()"
            ],
            "text/html": [
              "<style>#sk-container-id-1 {color: black;background-color: white;}#sk-container-id-1 pre{padding: 0;}#sk-container-id-1 div.sk-toggleable {background-color: white;}#sk-container-id-1 label.sk-toggleable__label {cursor: pointer;display: block;width: 100%;margin-bottom: 0;padding: 0.3em;box-sizing: border-box;text-align: center;}#sk-container-id-1 label.sk-toggleable__label-arrow:before {content: \"▸\";float: left;margin-right: 0.25em;color: #696969;}#sk-container-id-1 label.sk-toggleable__label-arrow:hover:before {color: black;}#sk-container-id-1 div.sk-estimator:hover label.sk-toggleable__label-arrow:before {color: black;}#sk-container-id-1 div.sk-toggleable__content {max-height: 0;max-width: 0;overflow: hidden;text-align: left;background-color: #f0f8ff;}#sk-container-id-1 div.sk-toggleable__content pre {margin: 0.2em;color: black;border-radius: 0.25em;background-color: #f0f8ff;}#sk-container-id-1 input.sk-toggleable__control:checked~div.sk-toggleable__content {max-height: 200px;max-width: 100%;overflow: auto;}#sk-container-id-1 input.sk-toggleable__control:checked~label.sk-toggleable__label-arrow:before {content: \"▾\";}#sk-container-id-1 div.sk-estimator input.sk-toggleable__control:checked~label.sk-toggleable__label {background-color: #d4ebff;}#sk-container-id-1 div.sk-label input.sk-toggleable__control:checked~label.sk-toggleable__label {background-color: #d4ebff;}#sk-container-id-1 input.sk-hidden--visually {border: 0;clip: rect(1px 1px 1px 1px);clip: rect(1px, 1px, 1px, 1px);height: 1px;margin: -1px;overflow: hidden;padding: 0;position: absolute;width: 1px;}#sk-container-id-1 div.sk-estimator {font-family: monospace;background-color: #f0f8ff;border: 1px dotted black;border-radius: 0.25em;box-sizing: border-box;margin-bottom: 0.5em;}#sk-container-id-1 div.sk-estimator:hover {background-color: #d4ebff;}#sk-container-id-1 div.sk-parallel-item::after {content: \"\";width: 100%;border-bottom: 1px solid gray;flex-grow: 1;}#sk-container-id-1 div.sk-label:hover label.sk-toggleable__label {background-color: #d4ebff;}#sk-container-id-1 div.sk-serial::before {content: \"\";position: absolute;border-left: 1px solid gray;box-sizing: border-box;top: 0;bottom: 0;left: 50%;z-index: 0;}#sk-container-id-1 div.sk-serial {display: flex;flex-direction: column;align-items: center;background-color: white;padding-right: 0.2em;padding-left: 0.2em;position: relative;}#sk-container-id-1 div.sk-item {position: relative;z-index: 1;}#sk-container-id-1 div.sk-parallel {display: flex;align-items: stretch;justify-content: center;background-color: white;position: relative;}#sk-container-id-1 div.sk-item::before, #sk-container-id-1 div.sk-parallel-item::before {content: \"\";position: absolute;border-left: 1px solid gray;box-sizing: border-box;top: 0;bottom: 0;left: 50%;z-index: -1;}#sk-container-id-1 div.sk-parallel-item {display: flex;flex-direction: column;z-index: 1;position: relative;background-color: white;}#sk-container-id-1 div.sk-parallel-item:first-child::after {align-self: flex-end;width: 50%;}#sk-container-id-1 div.sk-parallel-item:last-child::after {align-self: flex-start;width: 50%;}#sk-container-id-1 div.sk-parallel-item:only-child::after {width: 0;}#sk-container-id-1 div.sk-dashed-wrapped {border: 1px dashed gray;margin: 0 0.4em 0.5em 0.4em;box-sizing: border-box;padding-bottom: 0.4em;background-color: white;}#sk-container-id-1 div.sk-label label {font-family: monospace;font-weight: bold;display: inline-block;line-height: 1.2em;}#sk-container-id-1 div.sk-label-container {text-align: center;}#sk-container-id-1 div.sk-container {/* jupyter's `normalize.less` sets `[hidden] { display: none; }` but bootstrap.min.css set `[hidden] { display: none !important; }` so we also need the `!important` here to be able to override the default hidden behavior on the sphinx rendered scikit-learn.org. See: https://github.com/scikit-learn/scikit-learn/issues/21755 */display: inline-block !important;position: relative;}#sk-container-id-1 div.sk-text-repr-fallback {display: none;}</style><div id=\"sk-container-id-1\" class=\"sk-top-container\"><div class=\"sk-text-repr-fallback\"><pre>LinearRegression()</pre><b>In a Jupyter environment, please rerun this cell to show the HTML representation or trust the notebook. <br />On GitHub, the HTML representation is unable to render, please try loading this page with nbviewer.org.</b></div><div class=\"sk-container\" hidden><div class=\"sk-item\"><div class=\"sk-estimator sk-toggleable\"><input class=\"sk-toggleable__control sk-hidden--visually\" id=\"sk-estimator-id-1\" type=\"checkbox\" checked><label for=\"sk-estimator-id-1\" class=\"sk-toggleable__label sk-toggleable__label-arrow\">LinearRegression</label><div class=\"sk-toggleable__content\"><pre>LinearRegression()</pre></div></div></div></div></div>"
            ]
          },
          "metadata": {},
          "execution_count": 23
        }
      ]
    },
    {
      "cell_type": "code",
      "source": [
        "poly_reg.fit(X_poly_train , y_train)"
      ],
      "metadata": {
        "colab": {
          "base_uri": "https://localhost:8080/",
          "height": 74
        },
        "id": "WNOtWpsk7dJb",
        "outputId": "f9ca6c67-ff27-42c3-962a-6188654eb19f"
      },
      "execution_count": null,
      "outputs": [
        {
          "output_type": "execute_result",
          "data": {
            "text/plain": [
              "LinearRegression()"
            ],
            "text/html": [
              "<style>#sk-container-id-2 {color: black;background-color: white;}#sk-container-id-2 pre{padding: 0;}#sk-container-id-2 div.sk-toggleable {background-color: white;}#sk-container-id-2 label.sk-toggleable__label {cursor: pointer;display: block;width: 100%;margin-bottom: 0;padding: 0.3em;box-sizing: border-box;text-align: center;}#sk-container-id-2 label.sk-toggleable__label-arrow:before {content: \"▸\";float: left;margin-right: 0.25em;color: #696969;}#sk-container-id-2 label.sk-toggleable__label-arrow:hover:before {color: black;}#sk-container-id-2 div.sk-estimator:hover label.sk-toggleable__label-arrow:before {color: black;}#sk-container-id-2 div.sk-toggleable__content {max-height: 0;max-width: 0;overflow: hidden;text-align: left;background-color: #f0f8ff;}#sk-container-id-2 div.sk-toggleable__content pre {margin: 0.2em;color: black;border-radius: 0.25em;background-color: #f0f8ff;}#sk-container-id-2 input.sk-toggleable__control:checked~div.sk-toggleable__content {max-height: 200px;max-width: 100%;overflow: auto;}#sk-container-id-2 input.sk-toggleable__control:checked~label.sk-toggleable__label-arrow:before {content: \"▾\";}#sk-container-id-2 div.sk-estimator input.sk-toggleable__control:checked~label.sk-toggleable__label {background-color: #d4ebff;}#sk-container-id-2 div.sk-label input.sk-toggleable__control:checked~label.sk-toggleable__label {background-color: #d4ebff;}#sk-container-id-2 input.sk-hidden--visually {border: 0;clip: rect(1px 1px 1px 1px);clip: rect(1px, 1px, 1px, 1px);height: 1px;margin: -1px;overflow: hidden;padding: 0;position: absolute;width: 1px;}#sk-container-id-2 div.sk-estimator {font-family: monospace;background-color: #f0f8ff;border: 1px dotted black;border-radius: 0.25em;box-sizing: border-box;margin-bottom: 0.5em;}#sk-container-id-2 div.sk-estimator:hover {background-color: #d4ebff;}#sk-container-id-2 div.sk-parallel-item::after {content: \"\";width: 100%;border-bottom: 1px solid gray;flex-grow: 1;}#sk-container-id-2 div.sk-label:hover label.sk-toggleable__label {background-color: #d4ebff;}#sk-container-id-2 div.sk-serial::before {content: \"\";position: absolute;border-left: 1px solid gray;box-sizing: border-box;top: 0;bottom: 0;left: 50%;z-index: 0;}#sk-container-id-2 div.sk-serial {display: flex;flex-direction: column;align-items: center;background-color: white;padding-right: 0.2em;padding-left: 0.2em;position: relative;}#sk-container-id-2 div.sk-item {position: relative;z-index: 1;}#sk-container-id-2 div.sk-parallel {display: flex;align-items: stretch;justify-content: center;background-color: white;position: relative;}#sk-container-id-2 div.sk-item::before, #sk-container-id-2 div.sk-parallel-item::before {content: \"\";position: absolute;border-left: 1px solid gray;box-sizing: border-box;top: 0;bottom: 0;left: 50%;z-index: -1;}#sk-container-id-2 div.sk-parallel-item {display: flex;flex-direction: column;z-index: 1;position: relative;background-color: white;}#sk-container-id-2 div.sk-parallel-item:first-child::after {align-self: flex-end;width: 50%;}#sk-container-id-2 div.sk-parallel-item:last-child::after {align-self: flex-start;width: 50%;}#sk-container-id-2 div.sk-parallel-item:only-child::after {width: 0;}#sk-container-id-2 div.sk-dashed-wrapped {border: 1px dashed gray;margin: 0 0.4em 0.5em 0.4em;box-sizing: border-box;padding-bottom: 0.4em;background-color: white;}#sk-container-id-2 div.sk-label label {font-family: monospace;font-weight: bold;display: inline-block;line-height: 1.2em;}#sk-container-id-2 div.sk-label-container {text-align: center;}#sk-container-id-2 div.sk-container {/* jupyter's `normalize.less` sets `[hidden] { display: none; }` but bootstrap.min.css set `[hidden] { display: none !important; }` so we also need the `!important` here to be able to override the default hidden behavior on the sphinx rendered scikit-learn.org. See: https://github.com/scikit-learn/scikit-learn/issues/21755 */display: inline-block !important;position: relative;}#sk-container-id-2 div.sk-text-repr-fallback {display: none;}</style><div id=\"sk-container-id-2\" class=\"sk-top-container\"><div class=\"sk-text-repr-fallback\"><pre>LinearRegression()</pre><b>In a Jupyter environment, please rerun this cell to show the HTML representation or trust the notebook. <br />On GitHub, the HTML representation is unable to render, please try loading this page with nbviewer.org.</b></div><div class=\"sk-container\" hidden><div class=\"sk-item\"><div class=\"sk-estimator sk-toggleable\"><input class=\"sk-toggleable__control sk-hidden--visually\" id=\"sk-estimator-id-2\" type=\"checkbox\" checked><label for=\"sk-estimator-id-2\" class=\"sk-toggleable__label sk-toggleable__label-arrow\">LinearRegression</label><div class=\"sk-toggleable__content\"><pre>LinearRegression()</pre></div></div></div></div></div>"
            ]
          },
          "metadata": {},
          "execution_count": 24
        }
      ]
    }
  ]
}